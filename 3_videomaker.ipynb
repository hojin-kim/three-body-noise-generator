{
 "cells": [
  {
   "cell_type": "code",
   "execution_count": 1,
   "metadata": {},
   "outputs": [],
   "source": [
    "import matplotlib.pyplot as plt\n",
    "import pickle \n",
    "import numpy as np\n",
    "\n",
    "from moviepy.editor import VideoClip, AudioFileClip"
   ]
  },
  {
   "cell_type": "code",
   "execution_count": 2,
   "metadata": {},
   "outputs": [],
   "source": [
    "## parameters \n",
    "simulation_timestamps_per_second = 1000\n",
    "video_frames_per_second = 30\n",
    "audio_sample_rate = 44100 # Hz\n",
    "speedup_rate=4"
   ]
  },
  {
   "cell_type": "code",
   "execution_count": 3,
   "metadata": {},
   "outputs": [],
   "source": [
    "with open('trajectories.pkl', 'rb') as f:\n",
    "    trajectories = pickle.load(f)[0]"
   ]
  },
  {
   "cell_type": "code",
   "execution_count": 4,
   "metadata": {},
   "outputs": [],
   "source": [
    "# I want to make a smallest square region which contains all the trajectories\n",
    "#   which is centered at origin. Also I set margin\n",
    "\n",
    "margin = .5\n",
    "\n",
    "xmax, xmin = np.max(trajectories[:,:,0]), np.min(trajectories[:,:,0])\n",
    "ymax, ymin = np.max(trajectories[:,:,1]), np.min(trajectories[:,:,1])\n",
    "\n",
    "width, height = xmax-xmin, ymax-ymin \n",
    "if width > height:\n",
    "    ymin = ymin - (width-height)/2 \n",
    "    ymax = ymax + (width-height)/2\n",
    "else:\n",
    "    xmin = xmin - (height-width)/2\n",
    "    xmax = xmax + (height-width)/2"
   ]
  },
  {
   "cell_type": "code",
   "execution_count": 5,
   "metadata": {},
   "outputs": [],
   "source": [
    "def generate_frame(trajectories,\n",
    "                   video_frame_number,\n",
    "                   trace_window_in_seconds=10,\n",
    "                   simulation_timestamps_per_second=simulation_timestamps_per_second,\n",
    "                   video_frames_per_second=video_frames_per_second, \n",
    "                   speedup_rate=speedup_rate, \n",
    "                   showtitle=False):\n",
    "    \n",
    "    fig, ax = plt.subplots(figsize=(20,20))\n",
    "\n",
    "    fig.patch.set_facecolor('k')\n",
    "    ax.set_axis_off()\n",
    "    \n",
    "    margin = 1\n",
    "\n",
    "    ax.set_xlim(xmin - margin, xmax + margin)\n",
    "    ax.set_ylim(ymin - margin, ymax + margin)\n",
    "    ax.set_aspect('equal')\n",
    "    \n",
    "    # Calculate the corresponding simulation timestamp for the current frame\n",
    "    simulation_timestamp = int(video_frame_number * simulation_timestamps_per_second / video_frames_per_second)\n",
    "    \n",
    "    trace_window_in_simulation_timestamps = trace_window_in_seconds * simulation_timestamps_per_second\n",
    "    window_startpt_in_simstamps = max(0, simulation_timestamp - trace_window_in_simulation_timestamps) \n",
    "\n",
    "    lw = 3 # linewidth    \n",
    "    # Plot the trajectories up to the current simulation timestamp    \n",
    "    for idx, trajectory in enumerate(trajectories):\n",
    "        ax.plot(\n",
    "            trajectory[window_startpt_in_simstamps:simulation_timestamp, 0],\n",
    "            trajectory[window_startpt_in_simstamps:simulation_timestamp, 1],\n",
    "            c='rgb'[idx], \n",
    "            linewidth=lw\n",
    "            )\n",
    "    ## If window_startpt_in_simstamps is not 0, the remaining trace will be plotted more transparently\n",
    "    if window_startpt_in_simstamps != 0:\n",
    "        for idx, trajectory in enumerate(trajectories):\n",
    "            ax.plot(\n",
    "                trajectory[:window_startpt_in_simstamps, 0],\n",
    "                trajectory[:window_startpt_in_simstamps, 1],\n",
    "                c='rgb'[idx], \n",
    "                linewidth=lw, alpha=0.8\n",
    "                )\n",
    "    \n",
    "    psize = 250\n",
    "    # Plot the current positions\n",
    "    ax.scatter(trajectories[0, simulation_timestamp, 0],\n",
    "               trajectories[0, simulation_timestamp, 1], c='r', s=psize, marker='.')\n",
    "    ax.scatter(trajectories[1, simulation_timestamp, 0],\n",
    "               trajectories[1, simulation_timestamp, 1], c='g', s=psize, marker='.')\n",
    "    ax.scatter(trajectories[2, simulation_timestamp, 0],\n",
    "               trajectories[2, simulation_timestamp, 1], c='b', s=psize, marker='.')\n",
    "    \n",
    "    if showtitle:    \n",
    "        ax.set_title(f\"Frame {video_frame_number//speedup_rate}, Time {simulation_timestamp/simulation_timestamps_per_second/speedup_rate:.2f}\")\n",
    "    \n",
    "    ax.set_axis_off()\n",
    "    \n",
    "    fig.canvas.draw()\n",
    "    frame = np.frombuffer(fig.canvas.tostring_rgb(), dtype='uint8')\n",
    "    frame = frame.reshape(fig.canvas.get_width_height()[::-1] + (3,))\n",
    "    \n",
    "    plt.close(fig)\n",
    "    return frame\n"
   ]
  },
  {
   "cell_type": "code",
   "execution_count": 9,
   "metadata": {},
   "outputs": [],
   "source": [
    "duration  = int(len(trajectories[0]) / simulation_timestamps_per_second//speedup_rate)"
   ]
  },
  {
   "cell_type": "code",
   "execution_count": 10,
   "metadata": {},
   "outputs": [],
   "source": [
    "def make_frame(t):\n",
    "    frame_number = int(t * video_frames_per_second)\n",
    "    \n",
    "    return generate_frame(trajectories,\n",
    "                           frame_number * speedup_rate,\n",
    "                           #simulation_timestamps_per_second, #video_frames_per_second\n",
    "                           )\n",
    "\n",
    "video_clip = VideoClip(make_frame, duration=duration)"
   ]
  },
  {
   "cell_type": "code",
   "execution_count": 12,
   "metadata": {},
   "outputs": [],
   "source": [
    "audio_wav_fast = AudioFileClip('./3body_audio_fast.wav')\n",
    "final_clip = video_clip.set_audio(audio_wav_fast)"
   ]
  },
  {
   "cell_type": "code",
   "execution_count": 17,
   "metadata": {},
   "outputs": [],
   "source": [
    "final_clip.write_videofile(\"./3body_simulation_with_noise.mp4\", fps=video_frames_per_second)"
   ]
  }
 ],
 "metadata": {
  "kernelspec": {
   "display_name": ".venv_3bodymusic",
   "language": "python",
   "name": "python3"
  },
  "language_info": {
   "codemirror_mode": {
    "name": "ipython",
    "version": 3
   },
   "file_extension": ".py",
   "mimetype": "text/x-python",
   "name": "python",
   "nbconvert_exporter": "python",
   "pygments_lexer": "ipython3",
   "version": "3.10.13"
  },
  "orig_nbformat": 4
 },
 "nbformat": 4,
 "nbformat_minor": 2
}
