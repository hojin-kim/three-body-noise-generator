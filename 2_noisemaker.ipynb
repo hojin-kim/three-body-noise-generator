{
 "cells": [
  {
   "cell_type": "code",
   "execution_count": 1,
   "metadata": {},
   "outputs": [],
   "source": [
    "import numpy as np\n",
    "import pickle\n",
    "from scipy.interpolate import interp1d\n",
    "from scipy.io import wavfile\n",
    "import librosa "
   ]
  },
  {
   "cell_type": "code",
   "execution_count": 2,
   "metadata": {},
   "outputs": [],
   "source": [
    "with open('trajectories.pkl', 'rb') as f:\n",
    "    trajectories = pickle.load(f)[0]"
   ]
  },
  {
   "cell_type": "code",
   "execution_count": 3,
   "metadata": {},
   "outputs": [],
   "source": [
    "body1_positions = trajectories[0]\n",
    "body2_positions = trajectories[1]\n",
    "body3_positions = trajectories[2]"
   ]
  },
  {
   "cell_type": "code",
   "execution_count": 4,
   "metadata": {},
   "outputs": [],
   "source": [
    "def cartesian_to_polar(x, y):\n",
    "    r = np.sqrt(x**2 + y**2)\n",
    "    theta = np.arctan2(y, x)\n",
    "    return r, theta"
   ]
  },
  {
   "cell_type": "code",
   "execution_count": 5,
   "metadata": {},
   "outputs": [],
   "source": [
    "body1_polar = np.array([cartesian_to_polar(x, y) for x, y in body1_positions])\n",
    "body2_polar = np.array([cartesian_to_polar(x, y) for x, y in body2_positions])\n",
    "body3_polar = np.array([cartesian_to_polar(x, y) for x, y in body3_positions])"
   ]
  },
  {
   "cell_type": "code",
   "execution_count": 6,
   "metadata": {},
   "outputs": [],
   "source": [
    "audio_sample_rate = 44100  # Sample rate in Hz\n",
    "sim_sample_rate = 1000 # Sample rate of the simulation in Hz\n",
    "duration = len(body1_polar) / sim_sample_rate # Duration of the audio in seconds\n",
    "t_audio = np.linspace(0, duration, int(duration * audio_sample_rate), endpoint=False)"
   ]
  },
  {
   "cell_type": "code",
   "execution_count": 7,
   "metadata": {},
   "outputs": [],
   "source": [
    "def polar_to_audio(r, theta, t_audio):\n",
    "    # Keep track of the number of rotations\n",
    "    rotations = np.cumsum(np.abs(np.diff(theta)) > np.pi)\n",
    "    rotations = np.insert(rotations, 0, 0)\n",
    "\n",
    "    # Adjust the angle based on the number of rotations\n",
    "    adjusted_theta = theta + rotations * 2 * np.pi\n",
    "\n",
    "    # Create interpolation functions for r and adjusted_theta\n",
    "    r_interp = interp1d(np.linspace(0, 1, len(r)), r, kind='cubic')\n",
    "    theta_interp = interp1d(np.linspace(0, 1, len(adjusted_theta)), adjusted_theta, kind='cubic')\n",
    "\n",
    "    # Interpolate r and adjusted_theta at the audio timestamps\n",
    "    r_audio = r_interp(np.linspace(0, 1, len(t_audio)))\n",
    "    theta_audio = theta_interp(np.linspace(0, 1, len(t_audio)))\n",
    "\n",
    "    frequency = 440 * 2 ** (theta_audio / (2 * np.pi))  # Convert adjusted angle to frequency\n",
    "    amplitude = r_audio / np.max(r_audio)  # Normalize the distance to amplitude (0 to 1)\n",
    "    audio = amplitude * np.sin(2 * np.pi * frequency * t_audio)\n",
    "    return audio\n",
    "\n",
    "audio1 = polar_to_audio(body1_polar[:, 0], body1_polar[:, 1], t_audio)\n",
    "audio2 = polar_to_audio(body2_polar[:, 0], body2_polar[:, 1], t_audio)\n",
    "audio3 = polar_to_audio(body3_polar[:, 0], body3_polar[:, 1], t_audio)"
   ]
  },
  {
   "cell_type": "code",
   "execution_count": 8,
   "metadata": {},
   "outputs": [],
   "source": [
    "# audio = np.vstack((audio1, audio2, audio3)).T\n",
    "audio_mixed = audio1 + audio2 + audio3\n",
    "audio_mixed = audio_mixed / np.max(np.abs(audio_mixed))"
   ]
  },
  {
   "cell_type": "code",
   "execution_count": 9,
   "metadata": {},
   "outputs": [],
   "source": [
    "audio_fast = librosa.effects.time_stretch(audio_mixed, rate=4)"
   ]
  },
  {
   "cell_type": "code",
   "execution_count": 10,
   "metadata": {},
   "outputs": [],
   "source": [
    "# Write the mixed audio to a WAV file\n",
    "wavfile.write(\"3body_audio_fast.wav\", 44100, audio_fast)"
   ]
  }
 ],
 "metadata": {
  "kernelspec": {
   "display_name": ".venv_3bodymusic",
   "language": "python",
   "name": "python3"
  },
  "language_info": {
   "codemirror_mode": {
    "name": "ipython",
    "version": 3
   },
   "file_extension": ".py",
   "mimetype": "text/x-python",
   "name": "python",
   "nbconvert_exporter": "python",
   "pygments_lexer": "ipython3",
   "version": "3.10.13"
  },
  "orig_nbformat": 4
 },
 "nbformat": 4,
 "nbformat_minor": 2
}
