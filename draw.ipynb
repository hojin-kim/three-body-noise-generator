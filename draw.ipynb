{
 "cells": [
  {
   "cell_type": "code",
   "execution_count": null,
   "metadata": {},
   "outputs": [],
   "source": [
    "import numpy as np\n",
    "import matplotlib.pyplot as plt\n",
    "import threebody\n",
    "from matplotlib.animation import FuncAnimation\n",
    "from IPython.display import HTML"
   ]
  },
  {
   "cell_type": "code",
   "execution_count": null,
   "metadata": {},
   "outputs": [],
   "source": [
    "## 1000 timestamp = 1 second. \n",
    "## This will be adjusted with actual FPS (frame per second)\n",
    "\n",
    "dt = 0.001 \n",
    "FPS = 1000 \n",
    "assert (dt * FPS -1) < 0.01"
   ]
  },
  {
   "cell_type": "code",
   "execution_count": null,
   "metadata": {},
   "outputs": [],
   "source": [
    "# Some initial condition (that I like)\n",
    "celbody1 = threebody.body(1,[-1,    0], [0,     -1])\n",
    "celbody2 = threebody.body(1,[-.5,   1], [1,     1])\n",
    "celbody3 = threebody.body(1,[2,     0], [0,     0])\n",
    "\n",
    "system = threebody.three_body_system(celbody1, celbody2, celbody3)"
   ]
  },
  {
   "cell_type": "code",
   "execution_count": null,
   "metadata": {},
   "outputs": [],
   "source": [
    "duration = 100 # in secounds\n",
    "\n",
    "for i in range(duration * FPS):\n",
    "    system.update(dt=dt, method=\"LF\")"
   ]
  },
  {
   "cell_type": "code",
   "execution_count": null,
   "metadata": {},
   "outputs": [],
   "source": [
    "# Due to the implementation, the trajectory should be trimmed.\n",
    "trajectories = system.trajectory[:,:system.timestamp+1,:]"
   ]
  },
  {
   "cell_type": "code",
   "execution_count": null,
   "metadata": {},
   "outputs": [],
   "source": [
    "## Check the energy conservation \n",
    "plt.plot(system.energy_history[:system.timestamp+1], \n",
    "         label=[\"KE\", \"PE\"])\n",
    "plt.plot(np.sum(system.energy_history[:system.timestamp+1], axis=1), label=\"net energy\")\n",
    "plt.legend()\n",
    "plt.show()"
   ]
  },
  {
   "cell_type": "code",
   "execution_count": null,
   "metadata": {},
   "outputs": [],
   "source": [
    "fig, ax = plt.subplots(figsize=(12, 12))\n",
    "# make a scatter plot.\n",
    "# set scatter point size to be very small\n",
    "\n",
    "lw = .5\n",
    "ax.plot(trajectories[0,:,0], trajectories[0,:,1], linewidth=lw, c='r')\n",
    "ax.plot(trajectories[1,:,0], trajectories[1,:,1], linewidth=lw, c='g')\n",
    "ax.plot(trajectories[2,:,0], trajectories[2,:,1], linewidth=lw, c='b')\n",
    "\n",
    "numlim = -1\n",
    "ax.scatter(trajectories[0,numlim,0], trajectories[0,numlim,1], s = 100, c='k')\n",
    "ax.scatter(trajectories[1,numlim,0], trajectories[1,numlim,1], s = 100, c='k')\n",
    "ax.scatter(trajectories[2,numlim,0], trajectories[2,numlim,1], s = 100, c='k')\n",
    "\n",
    "# # plt.axis('off')\n",
    "plt.show()"
   ]
  },
  {
   "cell_type": "code",
   "execution_count": null,
   "metadata": {},
   "outputs": [],
   "source": [
    "# This cell is some preparatory trial for the further project\n",
    "\n",
    "fig, ax = plt.subplots(figsize=(12, 12))\n",
    "ax.set_xlim(-11,8)\n",
    "ax.set_ylim(-10,9)\n",
    "\n",
    "lines = [ax.plot([], [])[0] for _ in range(3)]\n",
    "\n",
    "def update(frame):\n",
    "    frame = frame * 1000\n",
    "    for i in range(3):\n",
    "        lines[i].set_data(trajectories[i, :frame, 0], trajectories[i, :frame, 1])\n",
    "    return lines\n",
    "\n",
    "anim=HTML(FuncAnimation(fig, update, frames=100, blit=True).to_jshtml())\n",
    "\n",
    "with open('html_file.html', 'w') as f:\n",
    "    f.write(anim.data)"
   ]
  }
 ],
 "metadata": {
  "kernelspec": {
   "display_name": ".venv_3bodymusic",
   "language": "python",
   "name": "python3"
  },
  "language_info": {
   "codemirror_mode": {
    "name": "ipython",
    "version": 3
   },
   "file_extension": ".py",
   "mimetype": "text/x-python",
   "name": "python",
   "nbconvert_exporter": "python",
   "pygments_lexer": "ipython3",
   "version": "3.10.13"
  },
  "orig_nbformat": 4
 },
 "nbformat": 4,
 "nbformat_minor": 2
}
